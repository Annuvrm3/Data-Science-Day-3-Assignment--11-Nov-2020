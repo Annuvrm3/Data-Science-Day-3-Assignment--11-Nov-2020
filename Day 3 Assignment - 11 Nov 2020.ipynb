{
 "cells": [
  {
   "cell_type": "code",
   "execution_count": 26,
   "metadata": {},
   "outputs": [
    {
     "name": "stdout",
     "output_type": "stream",
     "text": [
      "[ 2  5  8 11 14 17 20 23 26 29 32 35 38 41 44 47]\n"
     ]
    }
   ],
   "source": [
    "#Q1>\n",
    "\n",
    "import numpy as np\n",
    "arr= np.arange(2,50,3)\n",
    "print(arr)"
   ]
  },
  {
   "cell_type": "code",
   "execution_count": 6,
   "metadata": {},
   "outputs": [
    {
     "name": "stdout",
     "output_type": "stream",
     "text": [
      "10\n",
      "23\n",
      "51\n",
      "20\n",
      "02\n",
      "01\n",
      "65\n",
      "75\n",
      "25\n",
      "45\n",
      "['10' '23' '51' '20' '02' '01' '65' '75' '25' '45']\n",
      "['01' '02' '10' '20' '23' '25' '45' '51' '65' '75']\n"
     ]
    }
   ],
   "source": [
    "#Q2>\n",
    "\n",
    "lst1=[]\n",
    "lst2=[]\n",
    "for i in range(5):\n",
    "    lst1.append(input())\n",
    "for i in range(5):\n",
    "    lst2.append(input())\n",
    "arr1=np.array(lst1)\n",
    "arr2=np.array(lst2)\n",
    "arr=np.concatenate((arr1, arr2), axis=0)\n",
    "print(arr)\n",
    "print(np.sort(arr))"
   ]
  },
  {
   "cell_type": "code",
   "execution_count": 4,
   "metadata": {},
   "outputs": [
    {
     "name": "stdout",
     "output_type": "stream",
     "text": [
      "[[0, 1, 2], [3, 4, 5], [6, 7, 8]]\n",
      "2\n",
      "9\n"
     ]
    }
   ],
   "source": [
    "#Q3>\n",
    "\n",
    "print(np.ndim(arr)) #code to find dimension\n",
    "print(np.size(arr)) #code to find size"
   ]
  },
  {
   "cell_type": "code",
   "execution_count": 11,
   "metadata": {},
   "outputs": [
    {
     "name": "stdout",
     "output_type": "stream",
     "text": [
      "[[1 2 3]\n",
      " [4 5 6]\n",
      " [7 8 9]]\n",
      "[[1 2 3 4 5 6 7 8 9]]\n"
     ]
    }
   ],
   "source": [
    "#Q4>\n",
    "\n",
    "arr=np.array([1,2,3,4,5,6,7,8,9])\n",
    "arr1=arr.reshape(3,3)\n",
    "print(arr1)"
   ]
  },
  {
   "cell_type": "code",
   "execution_count": 22,
   "metadata": {},
   "outputs": [
    {
     "name": "stdout",
     "output_type": "stream",
     "text": [
      "[[ 1  2  3]\n",
      " [ 4  5  6]\n",
      " [ 7  8  9]\n",
      " [11 12 13]\n",
      " [14 15 16]\n",
      " [17 18 19]]\n",
      "\n",
      "[[ 1  2  3 11 12 13]\n",
      " [ 4  5  6 14 15 16]\n",
      " [ 7  8  9 17 18 19]]\n"
     ]
    }
   ],
   "source": [
    "arr1=np.arange(1,10)\n",
    "arr2=np.arange(11,20)\n",
    "arr_1=arr1.reshape(3,3)\n",
    "arr_2=arr2.reshape(3,3)\n",
    "a=np.vstack((arr_1,arr_2))\n",
    "b=np.hstack((arr_1,arr_2))\n",
    "print(a)\n",
    "print()\n",
    "print(b)"
   ]
  },
  {
   "cell_type": "code",
   "execution_count": 25,
   "metadata": {},
   "outputs": [
    {
     "name": "stdout",
     "output_type": "stream",
     "text": [
      "[1 2 3 4 5 6 8]\n",
      "7\n"
     ]
    }
   ],
   "source": [
    "a=np.array([1,2,5,4,5,4,3,8,2,6,5])\n",
    "b=np.unique(a) #use numpy.unique() to get unique items\n",
    "c=np.size(b) #use numpy.size() on unique item array to get counts of unique items\n",
    "print(b)\n",
    "print(c)"
   ]
  }
 ],
 "metadata": {
  "kernelspec": {
   "display_name": "Python 3",
   "language": "python",
   "name": "python3"
  },
  "language_info": {
   "codemirror_mode": {
    "name": "ipython",
    "version": 3
   },
   "file_extension": ".py",
   "mimetype": "text/x-python",
   "name": "python",
   "nbconvert_exporter": "python",
   "pygments_lexer": "ipython3",
   "version": "3.7.6"
  }
 },
 "nbformat": 4,
 "nbformat_minor": 4
}
